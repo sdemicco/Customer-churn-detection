{
 "cells": [
  {
   "cell_type": "code",
   "execution_count": 3,
   "metadata": {},
   "outputs": [],
   "source": [
    "import warnings\n",
    "warnings.filterwarnings('ignore')\n",
    "\n",
    "import numpy as np \n",
    "import pandas as pd\n",
    "import matplotlib.pyplot as plt\n",
    "import seaborn as sns\n",
    "\n",
    "from sklearn.preprocessing import StandardScaler\n",
    "\n",
    "from sklearn.metrics import classification_report, confusion_matrix, accuracy_score\n",
    "from sklearn.model_selection import train_test_split, cross_val_score, StratifiedKFold, GridSearchCV\n",
    "\n",
    "# clasification algorithms\n",
    "from xgboost.sklearn import XGBClassifier\n",
    "from sklearn.ensemble import GradientBoostingClassifier\n",
    "\n",
    "from sklearn.tree import DecisionTreeClassifier\n",
    "from sklearn.ensemble import BaggingClassifier\n",
    "from sklearn.ensemble import RandomForestClassifier\n",
    "from sklearn.neighbors import KNeighborsClassifier\n",
    "\n",
    "from sklearn.svm import SVC\n",
    "\n",
    "from sklearn import metrics\n",
    "from sklearn.model_selection import RandomizedSearchCV\n",
    "\n",
    "\n",
    "# model seralization\n",
    "import pickle\n"
   ]
  },
  {
   "cell_type": "markdown",
   "metadata": {},
   "source": [
    "### Declaración de constantes y funciones"
   ]
  },
  {
   "cell_type": "code",
   "execution_count": 4,
   "metadata": {},
   "outputs": [],
   "source": [
    "# Constantes\n",
    "\n",
    "# DATASET_PATH = \"../data/CARTONES/data_transformed_target.csv\"\n",
    "DATASET_PATH = \"../data/CARTONES/data_transformed_target_con_devoluciones.csv\"\n",
    "\n",
    "DATASET_ENCODING = \"UTF-8\"\n",
    "DATASET_COLUMN_SEPARATOR = \",\"\n",
    "\n",
    "ALL_COLUMNS = ['N° Factura','SKU','Kilos','USD TC Prom.Mes','Condición de pago','Devoluciones', 'USD/Ton',\n",
    "        'Kilos_Promedio', 'Kilos_Maximo','Kilos_Minimo', 'Frecuencia',\n",
    "        'Indice devoluciones', 'Buenos Aires', 'Catamarca', 'Chaco', 'Chubut',\n",
    "        'Corrientes', 'Córdoba', 'Entre Rios', 'Exportación', 'Formosa',\n",
    "        'Jujuy', 'La Pampa', 'La Rioja', 'Mendoza', 'Misiones', 'Neuquén',\n",
    "        'Rio Negro', 'Salta', 'San Juan', 'San Luis', 'Santa Cruz', 'Santa Fe',\n",
    "        'Santiago del Estero', 'Tierra del Fuego', 'Tucumán', 'Alimentos',\n",
    "        'Bebidas', 'Carne y productos carnicos', 'Construccion',\n",
    "        'Cuidado Salud, Cosm. y Farmac.', 'Electronica, electricos hogar',\n",
    "        'Golosinas', 'Madera y muebles', 'Metalurgica',\n",
    "        'Prod plast/vidrio/metal/caucho', 'Productos Lacteos',\n",
    "        'Productos agricolas y frescos', 'Productos de tabaco',\n",
    "        'Productos limpieza del hogar', 'Productos papel y relacionados',\n",
    "        'Productos quimicos y afines', 'Servicios',\n",
    "        'Textiles/prendas vestir/cuero','Target']\n",
    "\n",
    "CATEGORICAL_COLUMNS = ['Buenos Aires', 'Catamarca', 'Chaco', 'Chubut',\n",
    "        'Corrientes', 'Córdoba', 'Entre Rios', 'Exportación', 'Formosa',\n",
    "        'Jujuy', 'La Pampa', 'La Rioja', 'Mendoza', 'Misiones', 'Neuquén',\n",
    "        'Rio Negro', 'Salta', 'San Juan', 'San Luis', 'Santa Cruz', 'Santa Fe',\n",
    "        'Santiago del Estero', 'Tierra del Fuego', 'Tucumán', 'Alimentos',\n",
    "        'Bebidas', 'Carne y productos carnicos', 'Construccion',\n",
    "        'Cuidado Salud, Cosm. y Farmac.', 'Electronica, electricos hogar',\n",
    "        'Golosinas', 'Madera y muebles', 'Metalurgica',\n",
    "        'Prod plast/vidrio/metal/caucho', 'Productos Lacteos',\n",
    "        'Productos agricolas y frescos', 'Productos de tabaco',\n",
    "        'Productos limpieza del hogar', 'Productos papel y relacionados',\n",
    "        'Productos quimicos y afines', 'Servicios',\n",
    "        'Textiles/prendas vestir/cuero']\n",
    "\n",
    "TARGET_COLUMN = ['Target']\n",
    "\n",
    "NUMERIC_COLUMNS = list(set(ALL_COLUMNS) - set(CATEGORICAL_COLUMNS) - set(TARGET_COLUMN))"
   ]
  },
  {
   "cell_type": "code",
   "execution_count": 5,
   "metadata": {},
   "outputs": [],
   "source": [
    "def get_dataset():\n",
    "    \"\"\"\n",
    "    Lee el dataset que se usará para el entrenamiento del modelo.\n",
    "    \"\"\"\n",
    "    df = pd.read_csv(DATASET_PATH, encoding=DATASET_ENCODING, sep=DATASET_COLUMN_SEPARATOR)\n",
    "    return df"
   ]
  },
  {
   "cell_type": "code",
   "execution_count": 6,
   "metadata": {},
   "outputs": [],
   "source": [
    "def selecting_features(df):\n",
    "    \"\"\"\n",
    "    Selecciona las features que serán usadas en el modelo.\n",
    "    \"\"\"\n",
    "    df = df[ALL_COLUMNS]\n",
    "    return df"
   ]
  },
  {
   "cell_type": "code",
   "execution_count": 7,
   "metadata": {},
   "outputs": [],
   "source": [
    "def encoding_categoric_features(df):\n",
    "    \"\"\"\n",
    "    Realiza el encoding de las features categóricas.\n",
    "    \"\"\"\n",
    "    return pd.get_dummies(df, columns=CATEGORICAL_COLUMNS, drop_first=True)"
   ]
  },
  {
   "cell_type": "code",
   "execution_count": 8,
   "metadata": {},
   "outputs": [],
   "source": [
    "def spliting_dataset(df):\n",
    "    \"\"\"\n",
    "    Separa los datasets de entrenamiento y prueba. \n",
    "    \"\"\"\n",
    "    X_train, X_test, y_train, y_test = train_test_split(df.drop(TARGET_COLUMN, axis=1), df[TARGET_COLUMN], test_size=0.3, random_state=0)\n",
    "    return X_train, X_test, y_train, y_test"
   ]
  },
  {
   "cell_type": "code",
   "execution_count": 9,
   "metadata": {},
   "outputs": [],
   "source": [
    "def scaling_numeric_features(X_train, X_test, y_train, y_test):    \n",
    "    \"\"\"\n",
    "    Realiza el escalamiento de las variables numéricas en la data de entrenamiento.\n",
    "    \"\"\"\n",
    "\n",
    "    # split numeric and categorical features\n",
    "    X_train_num = X_train[NUMERIC_COLUMNS]\n",
    "    X_test_num = X_test[NUMERIC_COLUMNS]\n",
    "\n",
    "    X_train_dum= X_train.drop(NUMERIC_COLUMNS, axis=1)\n",
    "    X_test_dum = X_test.drop(NUMERIC_COLUMNS, axis=1)\n",
    "\n",
    "    # set up a standard scaler transformer using StandardScaler() from scikit-learn\n",
    "    scaler = StandardScaler()\n",
    "    scaler.fit(X_train_num)\n",
    "\n",
    "    # Now, let's standardize the train and test sets with the trained scaler\n",
    "    X_train_num_scaled = scaler.transform(X_train_num)\n",
    "    X_test_num_scaled = scaler.transform(X_test_num)\n",
    "\n",
    "    # Scikit-learn scalers, just like any scikit-learn transformer, return NumPy\n",
    "    # arrays. To convert the array into a dataframe\n",
    "    X_train_num_scaled = pd.DataFrame(X_train_num_scaled, columns=X_train_num.columns)\n",
    "    X_test_num_scaled = pd.DataFrame(X_test_num_scaled, columns=X_test_num.columns)\n",
    "    \n",
    "    # reset index\n",
    "    X_train_dum.reset_index(drop=True, inplace=True)\n",
    "    X_test_dum.reset_index(drop=True, inplace=True)\n",
    "\n",
    "    y_train.reset_index(drop=True, inplace=True)\n",
    "    y_train = y_train[TARGET_COLUMN[0]].values\n",
    "    \n",
    "    y_test.reset_index(drop=True, inplace=True)\n",
    "    y_test = y_test[TARGET_COLUMN[0]].values\n",
    "\n",
    "    # Concat dataframes numeric scaled and dummies \n",
    "    X_train_final = pd.concat([X_train_num_scaled, X_train_dum], axis=1)\n",
    "    X_test_final = pd.concat([X_test_num_scaled, X_test_dum], axis=1)\n",
    "\n",
    "    return X_train_final, X_test_final, y_train, y_test\n",
    "    "
   ]
  },
  {
   "cell_type": "code",
   "execution_count": 10,
   "metadata": {},
   "outputs": [],
   "source": [
    "def show_target_balance(y_train):\n",
    "    \"\"\"\n",
    "    Muestra el el balanceo de la target en la data de entrenamiento \n",
    "    \"\"\"\n",
    "    y_train_df = pd.Series(y_train)\n",
    "    v_0 = y_train_df.value_counts()[0]\n",
    "    v_1 = y_train_df.value_counts()[1]\n",
    "    print('total : ', y_train_df.shape[0])\n",
    "    print('  v_0 : ', v_0)\n",
    "    print('  v_1 :  ', v_1)\n",
    "    print('ratio : ', v_1/(v_0 + v_1)*100)\n"
   ]
  },
  {
   "cell_type": "code",
   "execution_count": 11,
   "metadata": {},
   "outputs": [],
   "source": [
    "def balancing_target(X_train, y_train, f=0.8):\n",
    "    \"\"\"\n",
    "    Realiza el balanceo de la target en la data de entrenamiento \n",
    "    \"\"\"    \n",
    "    df_X_train = pd.DataFrame(X_train, columns=X_train.columns)\n",
    "    df_y_train = pd.DataFrame(y_train, columns=TARGET_COLUMN)\n",
    "    df_train = pd.concat([df_X_train, df_y_train], axis=1)\n",
    "\n",
    "    data_0 = df_train[df_train[TARGET_COLUMN[0]]==0].sample(frac=f, random_state=12)\n",
    "    data_1 = df_train[df_train[TARGET_COLUMN[0]]==1]\n",
    "\n",
    "    data_balanceada = pd.concat([data_0, data_1], axis=0)\n",
    "    \n",
    "    X_train_bal = data_balanceada.drop(TARGET_COLUMN, axis=1)\n",
    "    y_train_bal = data_balanceada[TARGET_COLUMN[0]].values\n",
    "\n",
    "    return X_train_bal, y_train_bal"
   ]
  },
  {
   "cell_type": "code",
   "execution_count": 12,
   "metadata": {},
   "outputs": [],
   "source": [
    "def confusion_matrix_visual(y_true, y_pred, class_labels, ax=None, title=None, **kwargs):\n",
    "    \"\"\"\n",
    "    Muestra gráficamente la matriz de confusión.\n",
    "    \"\"\"\n",
    "    mat = confusion_matrix(y_true, y_pred)\n",
    "    axes = sns.heatmap(\n",
    "    mat.T, square=True, annot=True, fmt='d',\n",
    "    cbar=True, cmap=plt.cm.Blues, ax=ax, **kwargs\n",
    "    )\n",
    "    axes.set_xlabel('Actual')\n",
    "    axes.set_ylabel('Model Prediction')\n",
    "    tick_marks = np.arange(len(class_labels)) + 0.5\n",
    "    axes.set_xticks(tick_marks)\n",
    "    axes.set_xticklabels(class_labels)\n",
    "    axes.set_yticks(tick_marks)\n",
    "    axes.set_yticklabels(class_labels, rotation=0)\n",
    "    axes.set_title(title or 'Confusion Matrix')\n",
    "    return axes\n"
   ]
  },
  {
   "cell_type": "code",
   "execution_count": 13,
   "metadata": {},
   "outputs": [],
   "source": [
    "def feature_importance_visual(trained_model, X_train):\n",
    "    \"\"\"\n",
    "    Muestra gráficamente las 7 features más importantes\n",
    "    \"\"\"\n",
    "    plt.figure(figsize=(10,7))\n",
    "    feat_importances = pd.Series(trained_model.best_estimator_.feature_importances_, index = X_train.columns)\n",
    "    feat_importances.nlargest(7).plot(kind='barh');"
   ]
  },
  {
   "cell_type": "code",
   "execution_count": 14,
   "metadata": {},
   "outputs": [],
   "source": [
    "def model_dump(filename, model):\n",
    "    \"\"\"\n",
    "    Serializa un modelo y lo guarda como un fichero .pkl\n",
    "    \"\"\"\n",
    "    # dump the model to disk\n",
    "    pickle.dump(model, open(filename, 'wb'))"
   ]
  },
  {
   "cell_type": "code",
   "execution_count": 15,
   "metadata": {},
   "outputs": [],
   "source": [
    "def model_load(filename):\n",
    "    \"\"\"\n",
    "    Carga un modelo serializado a partir de un archivo .pkl\n",
    "    \"\"\"\n",
    "    # load the model from disk\n",
    "    return pickle.load(open(filename, 'rb'))"
   ]
  },
  {
   "cell_type": "code",
   "execution_count": 42,
   "metadata": {},
   "outputs": [],
   "source": [
    "def get_best_hiperparams(model, params, scoring, X_train, y_train):\n",
    "    rs = RandomizedSearchCV(estimator=model, param_distributions=params, random_state=0)\n",
    "    search = rs.fit(X_train, y_train)\n",
    "    print('{} = {}'.format(scoring, search.best_score_))\n",
    "    print ('Parámetros óptimos: {}'.format(search.best_params_))"
   ]
  },
  {
   "cell_type": "markdown",
   "metadata": {},
   "source": [
    "## Preparar features y target"
   ]
  },
  {
   "cell_type": "code",
   "execution_count": 16,
   "metadata": {},
   "outputs": [
    {
     "name": "stdout",
     "output_type": "stream",
     "text": [
      "Sin balanceo de target:\n",
      "total :  14608\n",
      "  v_0 :  13434\n",
      "  v_1 :   1174\n",
      "ratio :  8.03669222343921\n"
     ]
    }
   ],
   "source": [
    "def processing():\n",
    "    df = get_dataset()\n",
    "    df = selecting_features(df)\n",
    "    X_train, X_test, y_train, y_test = spliting_dataset(df)\n",
    "    X_train, X_test, y_train, y_test = scaling_numeric_features(X_train, X_test, y_train, y_test)\n",
    "    print(\"Sin balanceo de target:\" )\n",
    "    show_target_balance(y_train)\n",
    "    return X_train, X_test, y_train, y_test\n",
    "    \n",
    "X_train, X_test, y_train, y_test = processing()\n"
   ]
  },
  {
   "cell_type": "markdown",
   "metadata": {},
   "source": [
    "## Model Training"
   ]
  },
  {
   "cell_type": "markdown",
   "metadata": {},
   "source": [
    "### 1. XGBClassifier con GridSearchCV"
   ]
  },
  {
   "cell_type": "markdown",
   "metadata": {},
   "source": [
    "#### Obtener hiperparámetros óptimos"
   ]
  },
  {
   "cell_type": "code",
   "execution_count": 45,
   "metadata": {},
   "outputs": [
    {
     "name": "stdout",
     "output_type": "stream",
     "text": [
      "Fitting 5 folds for each of 8 candidates, totalling 40 fits\n",
      "[15:36:05] WARNING: D:\\bld\\xgboost-split_1637426510059\\work\\src\\learner.cc:1115: Starting in XGBoost 1.3.0, the default evaluation metric used with the objective 'binary:logistic' was changed from 'error' to 'logloss'. Explicitly set eval_metric if you'd like to restore the old behavior.\n",
      "{'learning_rate': 0.1, 'max_depth': 8, 'n_estimators': 500}\n",
      "              precision    recall  f1-score   support\n",
      "\n",
      "           0       0.98      0.99      0.98      5800\n",
      "           1       0.84      0.71      0.77       461\n",
      "\n",
      "    accuracy                           0.97      6261\n",
      "   macro avg       0.91      0.85      0.88      6261\n",
      "weighted avg       0.97      0.97      0.97      6261\n",
      "\n"
     ]
    },
    {
     "data": {
      "image/png": "[encoded data removed]",
      "text/plain": [
       "<Figure size 432x288 with 2 Axes>"
      ]
     },
     "metadata": {
      "needs_background": "light"
     },
     "output_type": "display_data"
    },
    {
     "data": {
      "image/png": "[encoded data removed]",
      "text/plain": [
       "<Figure size 720x504 with 1 Axes>"
      ]
     },
     "metadata": {
      "needs_background": "light"
     },
     "output_type": "display_data"
    }
   ],
   "source": [
    "# model_xg = XGBClassifier(n_jobs=-1, use_label_encoder=False)\n",
    "\n",
    "cv = StratifiedKFold(n_splits=5, random_state=0, shuffle=True)\n",
    "\n",
    "params = {  \n",
    "    # \"n_estimators\": [50,100,500],      # Number of boosted trees to fit.\n",
    "    \"n_estimators\": [500, 1000],\n",
    "    \"max_depth\": [4,8],            # Maximum tree depth for base learners.\n",
    "    \"learning_rate\": [0.01, 0.1],      # Boosting learning rate (xgb’s “eta”)\n",
    "}\n",
    "\n",
    "xgb = GridSearchCV(\n",
    "    XGBClassifier(n_jobs=-1, use_label_encoder=False, random_state=12), \n",
    "    param_grid=params, \n",
    "    cv=cv, \n",
    "    verbose=1, \n",
    "    n_jobs=-1)\n",
    "xgb.fit(X_train,y_train)\n",
    "\n",
    "best_hyperparams = xgb.best_params_\n",
    "print(best_hyperparams)\n",
    "\n",
    "# Show classifier performance \n",
    "preds = xgb.predict(X_test)\n",
    "confusion_matrix_visual(y_test, preds, ['0', '1'])\n",
    "print(classification_report(y_test, preds))\n",
    "feature_importance_visual(xgb, X_train)\n"
   ]
  },
  {
   "cell_type": "markdown",
   "metadata": {},
   "source": [
    "### 2. GradientBoostingClassifier con GridSearchCV"
   ]
  },
  {
   "cell_type": "markdown",
   "metadata": {},
   "source": [
    "#### Tunning de hiperparámetros"
   ]
  },
  {
   "cell_type": "code",
   "execution_count": null,
   "metadata": {},
   "outputs": [
    {
     "data": {
      "text/plain": [
       "dict_keys(['ccp_alpha', 'criterion', 'init', 'learning_rate', 'loss', 'max_depth', 'max_features', 'max_leaf_nodes', 'min_impurity_decrease', 'min_impurity_split', 'min_samples_leaf', 'min_samples_split', 'min_weight_fraction_leaf', 'n_estimators', 'n_iter_no_change', 'random_state', 'subsample', 'tol', 'validation_fraction', 'verbose', 'warm_start'])"
      ]
     },
     "execution_count": 19,
     "metadata": {},
     "output_type": "execute_result"
    }
   ],
   "source": [
    "estimator = GradientBoostingClassifier()\n",
    "estimator.get_params().keys()"
   ]
  },
  {
   "cell_type": "markdown",
   "metadata": {},
   "source": [
    "#### Entrenamos el modelo"
   ]
  },
  {
   "cell_type": "code",
   "execution_count": null,
   "metadata": {},
   "outputs": [
    {
     "name": "stdout",
     "output_type": "stream",
     "text": [
      "Fitting 3 folds for each of 36 candidates, totalling 108 fits\n",
      "{'learning_rate': 0.1, 'max_depth': 8, 'min_samples_leaf': 4, 'n_estimators': 100}\n",
      "              precision    recall  f1-score   support\n",
      "\n",
      "           0       0.97      0.99      0.98      5800\n",
      "           1       0.85      0.60      0.70       461\n",
      "\n",
      "    accuracy                           0.96      6261\n",
      "   macro avg       0.91      0.80      0.84      6261\n",
      "weighted avg       0.96      0.96      0.96      6261\n",
      "\n"
     ]
    },
    {
     "data": {
      "image/png": "[encoded data removed]",
      "text/plain": [
       "<Figure size 432x288 with 2 Axes>"
      ]
     },
     "metadata": {
      "needs_background": "light"
     },
     "output_type": "display_data"
    },
    {
     "data": {
      "image/png": "[encoded data removed]",
      "text/plain": [
       "<Figure size 720x504 with 1 Axes>"
      ]
     },
     "metadata": {
      "needs_background": "light"
     },
     "output_type": "display_data"
    }
   ],
   "source": [
    "search_space = {\n",
    "    \"n_estimators\": [50,100],\n",
    "    'max_depth' : [4, 8], # keep trees small to avoid overfitting\n",
    "    'min_samples_leaf' : [4, 6, 12],\n",
    "    'learning_rate' : [0.1, 0.5, 1]\n",
    "}\n",
    "\n",
    "cv = StratifiedKFold(n_splits=3, random_state=0, shuffle=True)\n",
    "\n",
    "gb_grid = GridSearchCV(\n",
    "    GradientBoostingClassifier(), \n",
    "    search_space, \n",
    "    cv=cv, \n",
    "    scoring='precision',\n",
    "    verbose=1, \n",
    "    n_jobs=-1\n",
    ").fit(X_train, y_train)\n",
    "\n",
    "best_hyperparams = gb_grid.best_params_\n",
    "print(best_hyperparams)\n",
    "\n",
    "# Show classifier performance \n",
    "preds = gb_grid.predict(X_test)\n",
    "\n",
    "confusion_matrix_visual(y_test, preds, ['0', '1'])\n",
    "print(classification_report(y_test, preds))\n",
    "feature_importance_visual(gb_grid, X_train)\n"
   ]
  },
  {
   "cell_type": "markdown",
   "metadata": {},
   "source": [
    "### 3. BaggingClassifier con GridSearchCV"
   ]
  },
  {
   "cell_type": "markdown",
   "metadata": {},
   "source": [
    "### Tunning de hiperparámetros"
   ]
  },
  {
   "cell_type": "code",
   "execution_count": null,
   "metadata": {},
   "outputs": [
    {
     "data": {
      "text/plain": [
       "dict_keys(['ccp_alpha', 'class_weight', 'criterion', 'max_depth', 'max_features', 'max_leaf_nodes', 'min_impurity_decrease', 'min_impurity_split', 'min_samples_leaf', 'min_samples_split', 'min_weight_fraction_leaf', 'random_state', 'splitter'])"
      ]
     },
     "execution_count": 61,
     "metadata": {},
     "output_type": "execute_result"
    }
   ],
   "source": [
    "estimator = tree.DecisionTreeClassifier()\n",
    "estimator.get_params().keys()"
   ]
  },
  {
   "cell_type": "code",
   "execution_count": 41,
   "metadata": {},
   "outputs": [
    {
     "name": "stdout",
     "output_type": "stream",
     "text": [
      "Fitting 3 folds for each of 24 candidates, totalling 72 fits\n",
      "              precision    recall  f1-score   support\n",
      "\n",
      "           0       0.94      0.99      0.97      5800\n",
      "           1       0.74      0.21      0.33       461\n",
      "\n",
      "    accuracy                           0.94      6261\n",
      "   macro avg       0.84      0.60      0.65      6261\n",
      "weighted avg       0.93      0.94      0.92      6261\n",
      "\n"
     ]
    },
    {
     "data": {
      "image/png": "[encoded data removed]",
      "text/plain": [
       "<Figure size 432x288 with 2 Axes>"
      ]
     },
     "metadata": {
      "needs_background": "light"
     },
     "output_type": "display_data"
    }
   ],
   "source": [
    "grid_params_bg = {\"base_estimator__max_depth\": [4,8],\n",
    "        \"base_estimator__min_samples_leaf\": [3, 5, 12],\n",
    "        'bootstrap_features': [False, True],\n",
    "        'n_estimators': [1000, 2000],\n",
    "}\n",
    "\n",
    "cv = StratifiedKFold(n_splits=3, random_state=0, shuffle=True)\n",
    "\n",
    "grid_bg = GridSearchCV(\n",
    "        BaggingClassifier(DecisionTreeClassifier()), \n",
    "        grid_params_bg, \n",
    "        cv=cv, \n",
    "        verbose=1,\n",
    "        n_jobs=-1\n",
    "        ).fit(X_train, y_train)\n",
    "\n",
    "# Show classifier performance \n",
    "preds = grid_bg.predict(X_test)\n",
    "\n",
    "confusion_matrix_visual(y_test, preds, ['0', '1'])\n",
    "print(classification_report(y_test, preds))\n",
    "\n",
    "# grid_bg.predict_proba(X_test)\n"
   ]
  },
  {
   "cell_type": "markdown",
   "metadata": {},
   "source": [
    "### 4. RandomForestClassifier"
   ]
  },
  {
   "cell_type": "markdown",
   "metadata": {},
   "source": [
    "#### Tunning de hiperparámetros"
   ]
  },
  {
   "cell_type": "code",
   "execution_count": null,
   "metadata": {},
   "outputs": [],
   "source": [
    "params_rfc = {'bootstrap': [True, False],\n",
    "    'max_depth': [4, 8],\n",
    "    'min_samples_leaf': [1, 2, 4],\n",
    "    'min_samples_split': [2, 5, 10],\n",
    "    'n_estimators': [1000, 2000]}\n",
    "\n",
    "get_best_hiperparams(model=RandomForestClassifier(),params=params_rfc,scoring='precision', X_train=X_train,y_train=y_train)   "
   ]
  },
  {
   "cell_type": "markdown",
   "metadata": {},
   "source": [
    "#### Entrenar modelo"
   ]
  },
  {
   "cell_type": "code",
   "execution_count": 24,
   "metadata": {},
   "outputs": [
    {
     "name": "stdout",
     "output_type": "stream",
     "text": [
      "              precision    recall  f1-score   support\n",
      "\n",
      "           0       0.98      0.99      0.98      5800\n",
      "           1       0.89      0.69      0.77       461\n",
      "\n",
      "    accuracy                           0.97      6261\n",
      "   macro avg       0.93      0.84      0.88      6261\n",
      "weighted avg       0.97      0.97      0.97      6261\n",
      "\n"
     ]
    },
    {
     "data": {
      "image/png": "[encoded data removed]",
      "text/plain": [
       "<Figure size 432x288 with 2 Axes>"
      ]
     },
     "metadata": {
      "needs_background": "light"
     },
     "output_type": "display_data"
    },
    {
     "data": {
      "image/png": "[encoded data removed]",
      "text/plain": [
       "<Figure size 720x504 with 1 Axes>"
      ]
     },
     "metadata": {
      "needs_background": "light"
     },
     "output_type": "display_data"
    }
   ],
   "source": [
    "rf_clf = RandomForestClassifier(n_estimators=400, min_samples_split=5, min_samples_leaf= 1, max_features='auto', max_depth=90, bootstrap=False)\n",
    "rf_clf.fit(X_train, y_train)\n",
    "\n",
    "# Show classifier performance \n",
    "preds = rf_clf.predict(X_test)\n",
    "\n",
    "confusion_matrix_visual(y_test, preds, ['0', '1'])\n",
    "print(classification_report(y_test, preds))\n",
    "\n",
    "\n",
    "# Graficar feature importance\n",
    "plt.figure(figsize=(10,7))\n",
    "feat_importances = pd.Series(rf_clf.feature_importances_, index = X_train.columns)\n",
    "feat_importances.nlargest(7).plot(kind='barh');\n"
   ]
  },
  {
   "cell_type": "markdown",
   "metadata": {},
   "source": [
    "### 5. KNeighborsClassifier"
   ]
  },
  {
   "cell_type": "markdown",
   "metadata": {},
   "source": [
    "#### Obtener los hiperparámetros óptimos"
   ]
  },
  {
   "cell_type": "code",
   "execution_count": null,
   "metadata": {},
   "outputs": [
    {
     "name": "stdout",
     "output_type": "stream",
     "text": [
      "precision = 0.9609119311385068\n",
      "Parámetros óptimos: {'weights': 'distance', 'n_neighbors': 19}\n"
     ]
    }
   ],
   "source": [
    "params_knn = {\n",
    "        'n_neighbors': range(1,25), \n",
    "        'weights' : ['uniform', 'distance']\n",
    "}\n",
    "\n",
    "get_best_hiperparams(model=KNeighborsClassifier(),params=params_knn,scoring='precision', X_train=X_train,y_train=y_train)   "
   ]
  },
  {
   "cell_type": "markdown",
   "metadata": {},
   "source": [
    "#### Entrenamos el modelo"
   ]
  },
  {
   "cell_type": "code",
   "execution_count": 26,
   "metadata": {},
   "outputs": [
    {
     "name": "stdout",
     "output_type": "stream",
     "text": [
      "              precision    recall  f1-score   support\n",
      "\n",
      "           0       0.98      0.99      0.98      5800\n",
      "           1       0.88      0.69      0.77       461\n",
      "\n",
      "    accuracy                           0.97      6261\n",
      "   macro avg       0.93      0.84      0.88      6261\n",
      "weighted avg       0.97      0.97      0.97      6261\n",
      "\n"
     ]
    },
    {
     "data": {
      "image/png": "[encoded data removed]",
      "text/plain": [
       "<Figure size 432x288 with 2 Axes>"
      ]
     },
     "metadata": {
      "needs_background": "light"
     },
     "output_type": "display_data"
    }
   ],
   "source": [
    "\n",
    "knn = KNeighborsClassifier(\n",
    "    weights='distance', \n",
    "    n_neighbors= 19\n",
    ").fit(X_train, y_train)\n",
    "\n",
    "preds = knn.predict(X_test)\n",
    "\n",
    "confusion_matrix_visual(y_test, preds, ['0', '1'])\n",
    "print(classification_report(y_test, preds))"
   ]
  },
  {
   "cell_type": "markdown",
   "metadata": {},
   "source": [
    "### 6. SVC con GridSearchCV"
   ]
  },
  {
   "cell_type": "code",
   "execution_count": 40,
   "metadata": {},
   "outputs": [
    {
     "name": "stdout",
     "output_type": "stream",
     "text": [
      "              precision    recall  f1-score   support\n",
      "\n",
      "           0       0.97      0.98      0.97      5800\n",
      "           1       0.68      0.57      0.62       461\n",
      "\n",
      "    accuracy                           0.95      6261\n",
      "   macro avg       0.82      0.77      0.80      6261\n",
      "weighted avg       0.94      0.95      0.95      6261\n",
      "\n"
     ]
    },
    {
     "data": {
      "image/png": "[encoded data removed]",
      "text/plain": [
       "<Figure size 432x288 with 2 Axes>"
      ]
     },
     "metadata": {
      "needs_background": "light"
     },
     "output_type": "display_data"
    }
   ],
   "source": [
    "param_svc = {'C': [0.1, 1, 10],\n",
    "            'gamma': [1, 0.1, 0.01],\n",
    "            'kernel': ['rbf']\n",
    "            }\n",
    " \n",
    "cv = StratifiedKFold(n_splits=3, random_state=0, shuffle=True)\n",
    "\n",
    "grid_svc = GridSearchCV(\n",
    "                SVC(), \n",
    "                param_svc, \n",
    "                cv=cv,\n",
    "                refit = True).fit(X_train, y_train)\n",
    "\n",
    "# Show classifier performance \n",
    "preds = grid_svc.predict(X_test)\n",
    "\n",
    "confusion_matrix_visual(y_test, preds, ['0', '1'])\n",
    "print(classification_report(y_test, preds))"
   ]
  },
  {
   "cell_type": "markdown",
   "metadata": {},
   "source": [
    "## Curva ROC para comparar los modelos"
   ]
  },
  {
   "cell_type": "code",
   "execution_count": 51,
   "metadata": {},
   "outputs": [
    {
     "data": {
      "image/png": "[encoded data removed]",
      "text/plain": [
       "<Figure size 432x288 with 1 Axes>"
      ]
     },
     "metadata": {
      "needs_background": "light"
     },
     "output_type": "display_data"
    }
   ],
   "source": [
    "def ROC(models, X_test, y_test, labels):\n",
    "    \"\"\" \n",
    "    Grafica la curva para comparar los modelos\n",
    "    \"\"\" \n",
    "    fig, ax = plt.subplots()\n",
    "    colors=['#FF6B6B','#4ECDC4','#5EFC8D','#050505']\n",
    "    i=0\n",
    "    for model in models:\n",
    "        y_pred_proba = model.predict_proba(X_test)[::,1]\n",
    "        fpr, tpr, _ = metrics.roc_curve(y_test,  y_pred_proba)\n",
    "        auc = metrics.roc_auc_score(y_test, y_pred_proba)\n",
    "        ax.plot(fpr,tpr,color=colors[i],label=labels[i] +\", auc=\"+str(auc))\n",
    "        ax.legend(loc=4)\n",
    "        i+=1\n",
    "    plt.show()\n",
    "\n",
    "# model_objects = [xgb, gb_grid, rf_clf, knn, svm]\n",
    "model_objects = [rf_clf, xgb, knn]\n",
    "# model_names = ['XGBClassifier', 'GradientBoostingClassifier',  'Tree BaggingClassifier',  'RandomForestClassifier',  'KNeighborsClassifier',  'SVC']\n",
    "model_names = ['RandomForestClassifier',  'XGBClassifier', 'KNeighborsClassifier']\n",
    "\n",
    "ROC(model_objects, X_test=X_test, y_test=y_test, labels=model_names)"
   ]
  },
  {
   "cell_type": "markdown",
   "metadata": {},
   "source": [
    "## Guardar el modelo entrenado\n",
    "\n",
    "Se seleccionó el modelo entrenado con mejor puntaje y se serializa para su uso posterior."
   ]
  },
  {
   "cell_type": "code",
   "execution_count": 98,
   "metadata": {},
   "outputs": [],
   "source": [
    "\n",
    "model_dump('modelo.pkl', rf_clf)\n"
   ]
  }
 ],
 "metadata": {
  "interpreter": {
   "hash": "70547119e442eebaf25c997596b4387d5f52e807d6d6693961fde1557bcb477f"
  },
  "kernelspec": {
   "display_name": "Python 3",
   "language": "python",
   "name": "python3"
  },
  "language_info": {
   "codemirror_mode": {
    "name": "ipython",
    "version": 3
   },
   "file_extension": ".py",
   "mimetype": "text/x-python",
   "name": "python",
   "nbconvert_exporter": "python",
   "pygments_lexer": "ipython3",
   "version": "3.8.10"
  }
 },
 "nbformat": 4,
 "nbformat_minor": 4
}
